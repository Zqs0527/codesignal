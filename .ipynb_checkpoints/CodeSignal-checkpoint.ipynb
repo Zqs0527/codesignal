{
 "cells": [
  {
   "cell_type": "code",
   "execution_count": 1,
   "id": "bd25cae2",
   "metadata": {},
   "outputs": [],
   "source": [
    "s = \"abcsd\""
   ]
  },
  {
   "cell_type": "code",
   "execution_count": 25,
   "id": "cecaa6e3",
   "metadata": {},
   "outputs": [],
   "source": [
    "t = s[::-1]"
   ]
  },
  {
   "cell_type": "code",
   "execution_count": 26,
   "id": "fb6747a4",
   "metadata": {},
   "outputs": [
    {
     "data": {
      "text/plain": [
       "'dscba'"
      ]
     },
     "execution_count": 26,
     "metadata": {},
     "output_type": "execute_result"
    }
   ],
   "source": [
    "t"
   ]
  },
  {
   "cell_type": "code",
   "execution_count": 4,
   "id": "cf2195a0",
   "metadata": {},
   "outputs": [],
   "source": [
    "sequence = [1,3,2,1]"
   ]
  },
  {
   "cell_type": "code",
   "execution_count": 8,
   "id": "591c9aef",
   "metadata": {},
   "outputs": [
    {
     "data": {
      "text/plain": [
       "[1, 3]"
      ]
     },
     "execution_count": 8,
     "metadata": {},
     "output_type": "execute_result"
    }
   ],
   "source": [
    " sequence[:2]"
   ]
  },
  {
   "cell_type": "code",
   "execution_count": 9,
   "id": "c9a81271",
   "metadata": {},
   "outputs": [
    {
     "data": {
      "text/plain": [
       "[2, 1]"
      ]
     },
     "execution_count": 9,
     "metadata": {},
     "output_type": "execute_result"
    }
   ],
   "source": [
    "sequence[2:]"
   ]
  },
  {
   "cell_type": "code",
   "execution_count": 10,
   "id": "775abb39",
   "metadata": {},
   "outputs": [],
   "source": [
    "def solution(sequence):\n",
    "    if len(sequence)<=2:\n",
    "        return True\n",
    "        \n",
    "    def increasing_sequence(splitted_sequence):\n",
    "        if len(splitted_sequence) == 2:\n",
    "            if splitted_sequence[1] - splitted_sequence[0] > 0:\n",
    "                return True\n",
    "            else:\n",
    "                return False\n",
    "        else:\n",
    "            for i in range(len(splitted_sequence)-1):\n",
    "                if splitted_sequence[i+1] < splitted_sequence[i]:\n",
    "                    return False\n",
    "                else:\n",
    "                    return True\n",
    "    \n",
    "    for i in range(len(sequence)-1):\n",
    "        if sequence[i+1] < sequence[i]:\n",
    "            seq_1 = sequence[:i+1]\n",
    "            seq_2 = sequence[i+1:]\n",
    "            if increasing_sequence(seq_1) and increasing_sequence(seq_2):\n",
    "                return True\n",
    "            else:\n",
    "                return False\n",
    "        else:\n",
    "            return True"
   ]
  },
  {
   "cell_type": "code",
   "execution_count": 11,
   "id": "7196a504",
   "metadata": {},
   "outputs": [
    {
     "data": {
      "text/plain": [
       "True"
      ]
     },
     "execution_count": 11,
     "metadata": {},
     "output_type": "execute_result"
    }
   ],
   "source": [
    "solution(sequence)"
   ]
  },
  {
   "cell_type": "code",
   "execution_count": null,
   "id": "92d72e65",
   "metadata": {},
   "outputs": [],
   "source": []
  }
 ],
 "metadata": {
  "kernelspec": {
   "display_name": "Python (oil_gas_data)",
   "language": "python",
   "name": "oil_gas_data"
  },
  "language_info": {
   "codemirror_mode": {
    "name": "ipython",
    "version": 3
   },
   "file_extension": ".py",
   "mimetype": "text/x-python",
   "name": "python",
   "nbconvert_exporter": "python",
   "pygments_lexer": "ipython3",
   "version": "3.8.12"
  }
 },
 "nbformat": 4,
 "nbformat_minor": 5
}
