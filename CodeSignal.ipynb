{
 "cells": [
  {
   "cell_type": "code",
   "execution_count": 1,
   "id": "bd25cae2",
   "metadata": {},
   "outputs": [],
   "source": [
    "s = \"abcsd\""
   ]
  },
  {
   "cell_type": "code",
   "execution_count": 2,
   "id": "cecaa6e3",
   "metadata": {},
   "outputs": [],
   "source": [
    "t = s[::-1]"
   ]
  },
  {
   "cell_type": "code",
   "execution_count": 26,
   "id": "fb6747a4",
   "metadata": {},
   "outputs": [
    {
     "data": {
      "text/plain": [
       "'dscba'"
      ]
     },
     "execution_count": 26,
     "metadata": {},
     "output_type": "execute_result"
    }
   ],
   "source": [
    "t"
   ]
  },
  {
   "cell_type": "code",
   "execution_count": 12,
   "id": "cf2195a0",
   "metadata": {},
   "outputs": [],
   "source": [
    "sequence = [1, 2, 1, 2]"
   ]
  },
  {
   "cell_type": "code",
   "execution_count": 2,
   "id": "8bcc6d4b",
   "metadata": {},
   "outputs": [
    {
     "data": {
      "text/plain": [
       "[1, 3]"
      ]
     },
     "execution_count": 2,
     "metadata": {},
     "output_type": "execute_result"
    }
   ],
   "source": [
    "sequence[:2]"
   ]
  },
  {
   "cell_type": "code",
   "execution_count": 3,
   "id": "003c8242",
   "metadata": {},
   "outputs": [
    {
     "data": {
      "text/plain": [
       "[2, 1]"
      ]
     },
     "execution_count": 3,
     "metadata": {},
     "output_type": "execute_result"
    }
   ],
   "source": [
    "sequence[2:]"
   ]
  },
  {
   "cell_type": "code",
   "execution_count": 6,
   "id": "662037b3",
   "metadata": {},
   "outputs": [
    {
     "data": {
      "text/plain": [
       "False"
      ]
     },
     "execution_count": 6,
     "metadata": {},
     "output_type": "execute_result"
    }
   ],
   "source": [
    "increasing_sequence(sequence[:2]) and increasing_sequence(sequence[2:])"
   ]
  },
  {
   "cell_type": "code",
   "execution_count": 8,
   "id": "9c0ad5e3",
   "metadata": {},
   "outputs": [],
   "source": [
    "def increasing_sequence(splitted_sequence):\n",
    "        if len(splitted_sequence) == 2:\n",
    "            if splitted_sequence[1] - splitted_sequence[0] > 0:\n",
    "                return True\n",
    "            else:\n",
    "                return False\n",
    "        else:\n",
    "            for i in range(len(splitted_sequence)-1):\n",
    "                if splitted_sequence[i+1] < splitted_sequence[i]:\n",
    "                    return False\n",
    "                else:\n",
    "                    return True\n",
    "def solution(sequence):\n",
    "    if len(sequence)<=2:\n",
    "        return True\n",
    "        \n",
    "    for i in range(len(sequence)-1):\n",
    "        if sequence[i+1] < sequence[i]:\n",
    "            seq_1 = sequence[:i+1]\n",
    "            seq_2 = sequence[i+1:]\n",
    "            if increasing_sequence(seq_1) and increasing_sequence(seq_2):\n",
    "                return True\n",
    "            else:\n",
    "                return False\n",
    "        else:\n",
    "            continue\n",
    "    return True"
   ]
  },
  {
   "cell_type": "code",
   "execution_count": 9,
   "id": "8cf91ee4",
   "metadata": {},
   "outputs": [
    {
     "data": {
      "text/plain": [
       "False"
      ]
     },
     "execution_count": 9,
     "metadata": {},
     "output_type": "execute_result"
    }
   ],
   "source": [
    "solution(sequence)"
   ]
  },
  {
   "cell_type": "code",
   "execution_count": 10,
   "id": "8caad631",
   "metadata": {},
   "outputs": [],
   "source": [
    "def solution_1(sequence):\n",
    "    removed_one = False\n",
    "    prev_maxval = None\n",
    "    maxval = None\n",
    "    for s in sequence:\n",
    "        if not maxval or s > maxval:\n",
    "            prev_maxval = maxval\n",
    "            maxval = s\n",
    "        elif not prev_maxval or s > prev_maxval:\n",
    "            if removed_one:\n",
    "                return False\n",
    "            removed_one = True\n",
    "            maxval = s\n",
    "        else:\n",
    "            if removed_one:\n",
    "                return False\n",
    "            removed_one = True\n",
    "    return True"
   ]
  },
  {
   "cell_type": "code",
   "execution_count": 13,
   "id": "ab25fd20",
   "metadata": {},
   "outputs": [
    {
     "data": {
      "text/plain": [
       "False"
      ]
     },
     "execution_count": 13,
     "metadata": {},
     "output_type": "execute_result"
    }
   ],
   "source": [
    "solution_1(sequence)"
   ]
  },
  {
   "cell_type": "code",
   "execution_count": 1,
   "id": "5f52860e",
   "metadata": {},
   "outputs": [],
   "source": [
    "a=True\n",
    "b=False"
   ]
  },
  {
   "cell_type": "code",
   "execution_count": 2,
   "id": "dc784e10",
   "metadata": {},
   "outputs": [
    {
     "data": {
      "text/plain": [
       "True"
      ]
     },
     "execution_count": 2,
     "metadata": {},
     "output_type": "execute_result"
    }
   ],
   "source": [
    "a == (not b)"
   ]
  },
  {
   "cell_type": "code",
   "execution_count": 3,
   "id": "87c1daff",
   "metadata": {},
   "outputs": [
    {
     "data": {
      "text/plain": [
       "True"
      ]
     },
     "execution_count": 3,
     "metadata": {},
     "output_type": "execute_result"
    }
   ],
   "source": [
    "not (a==b)"
   ]
  },
  {
   "cell_type": "code",
   "execution_count": 4,
   "id": "cf80cd49",
   "metadata": {},
   "outputs": [
    {
     "data": {
      "text/plain": [
       "True"
      ]
     },
     "execution_count": 4,
     "metadata": {},
     "output_type": "execute_result"
    }
   ],
   "source": [
    "not a == b"
   ]
  },
  {
   "cell_type": "code",
   "execution_count": 5,
   "id": "611c3741",
   "metadata": {},
   "outputs": [
    {
     "ename": "SyntaxError",
     "evalue": "invalid syntax (<ipython-input-5-112f780356d8>, line 1)",
     "output_type": "error",
     "traceback": [
      "\u001b[1;36m  File \u001b[1;32m\"<ipython-input-5-112f780356d8>\"\u001b[1;36m, line \u001b[1;32m1\u001b[0m\n\u001b[1;33m    a == not b\u001b[0m\n\u001b[1;37m         ^\u001b[0m\n\u001b[1;31mSyntaxError\u001b[0m\u001b[1;31m:\u001b[0m invalid syntax\n"
     ]
    }
   ],
   "source": [
    "a == not b"
   ]
  },
  {
   "cell_type": "code",
   "execution_count": 8,
   "id": "29171230",
   "metadata": {},
   "outputs": [],
   "source": [
    "x = 8\n",
    "y = -2"
   ]
  },
  {
   "cell_type": "code",
   "execution_count": 9,
   "id": "3abc8104",
   "metadata": {},
   "outputs": [
    {
     "data": {
      "text/plain": [
       "-4"
      ]
     },
     "execution_count": 9,
     "metadata": {},
     "output_type": "execute_result"
    }
   ],
   "source": [
    "x//y"
   ]
  },
  {
   "cell_type": "code",
   "execution_count": null,
   "id": "82e9d3dc",
   "metadata": {},
   "outputs": [],
   "source": []
  }
 ],
 "metadata": {
  "interpreter": {
   "hash": "310fb5d779c5629ebd167b3644296858d0d4efcd8108d72e502c70eb326a2291"
  },
  "kernelspec": {
   "display_name": "Python 3",
   "language": "python",
   "name": "python3"
  },
  "language_info": {
   "codemirror_mode": {
    "name": "ipython",
    "version": 3
   },
   "file_extension": ".py",
   "mimetype": "text/x-python",
   "name": "python",
   "nbconvert_exporter": "python",
   "pygments_lexer": "ipython3",
   "version": "3.8.12"
  }
 },
 "nbformat": 4,
 "nbformat_minor": 5
}
